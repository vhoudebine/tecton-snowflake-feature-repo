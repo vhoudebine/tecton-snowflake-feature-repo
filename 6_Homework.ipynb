{
 "cells": [
  {
   "cell_type": "markdown",
   "id": "9ffc67b9-4640-40c7-9c58-f5edce680ed2",
   "metadata": {},
   "source": [
    "# Final notebook: Build your own features!\n",
    "Congratulations on making it this far! We hope you had a great experience learning more about Tecton and you feel ready to take things to the next level.\n",
    "\n",
    "In this notebook, we will give you a few challenges to test your newly acquired skills, use this as an opportunity to dig deeper into the Tecton documentation. \n",
    "\n",
    "💡These challenges are ordered by difficulty level, see how far you can get!\n",
    "\n",
    "## Context\n",
    "Imagine you are building feature for a real-time fraud detection use case, for every incoming transaction in our payment system, we want to enrich it with pre-calculated features and features calculated in real-time. Here's a sample transaction payload you would get from the payment system:\n",
    "\n",
    "{\n",
    "        'USER_ID': 'user_934384811883',\n",
    "        'TIMESTAMP': '2022-04-07 22:49:35.650',\n",
    "        'TRANSACTION_ID':'567fe16b67143b0eb9d2bc2807d1294c',\n",
    "        'AMT':38.99,\n",
    "        'MERCHANT': 'fraud_Mraz-Herzog',\n",
    "        'CATEGORY': 'home',\n",
    "        'MERCH_LAT': 28.427713,\n",
    "        'MERCH_LONG': -83.396005\n",
    "        }\n",
    "\n",
    "### Challenge 1: \n",
    "- Create a batch feature that outputs the user's city and state, refreshed daily based on the timestamp at which the user is created in the system.\n",
    "\n",
    "💡 **Hint**: There is a user data source that exists in your feature repository that you can use as an input "
   ]
  },
  {
   "cell_type": "code",
   "execution_count": null,
   "id": "473d90a6-b6f4-4d2e-9932-03b2f663eda6",
   "metadata": {},
   "outputs": [],
   "source": [
    "import logging\n",
    "import os\n",
    "import tecton\n",
    "from dotenv import load_dotenv\n",
    "import pandas as pd\n",
    "import snowflake.connector\n",
    "from datetime import date, datetime, timedelta\n",
    "from pprint import pprint\n",
    "\n",
    "load_dotenv()  # take environment variables from .env.\n",
    "logging.getLogger('snowflake.connector').setLevel(logging.WARNING)\n",
    "logging.getLogger('snowflake.snowpark').setLevel(logging.WARNING)\n",
    "\n",
    "connection_parameters = {\n",
    "    \"user\": os.environ['SNOWFLAKE_USER'],\n",
    "    \"password\": os.environ['SNOWFLAKE_PASSWORD'],\n",
    "    \"account\": os.environ['SNOWFLAKE_ACCOUNT'],\n",
    "    \"warehouse\": \"TRIAL_WAREHOUSE\",\n",
    "    # Database and schema are required to create various temporary objects by tecton\n",
    "    \"database\": \"USAA_DEMO\",\n",
    "    \"schema\": \"PUBLIC\",\n",
    "}\n",
    "conn = snowflake.connector.connect(**connection_parameters)\n",
    "tecton.snowflake_context.set_connection(conn) # Tecton will use this Snowflake connection for all interactive queries\n",
    "\n",
    "# Quick helper function to query snowflake from a notebook\n",
    "# Make sure to replace with the appropriate connection details for your own account\n",
    "def query_snowflake(query):\n",
    "    df = conn.cursor().execute(query).fetch_pandas_all()\n",
    "    return df\n",
    "\n",
    "ws = tecton.get_workspace('prod')\n",
    "tecton.version.summary()"
   ]
  },
  {
   "cell_type": "code",
   "execution_count": 1,
   "id": "b052e4b0-8b5f-45aa-ae2c-56428d97b0a4",
   "metadata": {
    "tags": []
   },
   "outputs": [],
   "source": [
    "##### INSERT YOUR CODE HERE ######"
   ]
  },
  {
   "cell_type": "markdown",
   "id": "01571ac3-e029-42e4-bf80-43a6d67fbc57",
   "metadata": {
    "tags": []
   },
   "source": [
    "### Challenge 2: \n",
    "- Create a batch feature that outputs the user's number of previous transactions at the merchant in the last 1,7 and 14 days, refreshed daily.\n",
    "\n",
    "💡**Hint**: Because this feature is aggregated at the user and merchant level, your feature will user both the user and merchant entity. This feature can be expressed using Tecton's Aggregations"
   ]
  },
  {
   "cell_type": "code",
   "execution_count": 2,
   "id": "259a0f09-ff1a-4046-b99c-2b90b9ff09f7",
   "metadata": {
    "tags": []
   },
   "outputs": [],
   "source": [
    "##### INSERT YOUR CODE HERE ######"
   ]
  },
  {
   "cell_type": "markdown",
   "id": "73ce7ae4-3662-4d40-ac0d-101980159a22",
   "metadata": {},
   "source": [
    "### Challenge 3: \n",
    "- Create a batch feature that outputs the user's age, refreshed daily\n",
    "\n",
    "💡**Hint**: Consider using custom aggregations with incremental_backfills=True and use the `context.end_time` variable to compute a date difference"
   ]
  },
  {
   "cell_type": "code",
   "execution_count": 3,
   "id": "3992545a-c253-4fac-bb36-52317e5c7093",
   "metadata": {
    "tags": []
   },
   "outputs": [],
   "source": [
    "##### INSERT YOUR CODE HERE ######"
   ]
  },
  {
   "cell_type": "markdown",
   "id": "8efc0a46-245f-42ea-a0b8-337059c494e5",
   "metadata": {
    "tags": []
   },
   "source": [
    "### Challenge 4: \n",
    "- Create a feature that the ratio between the total spend in the category of the current transaction over the last 7 days (refreshed daily) and the total spend accross categories in the last 7 days (refreshed daily)\n",
    "\n",
    "💡**Hint**: Consider using 2 Batch feature Views (1. per user and category 2. per user) and an On-demand Feature View that depends on the 2 BFVs"
   ]
  },
  {
   "cell_type": "code",
   "execution_count": null,
   "id": "d47bee93-5258-41d0-8275-819d4b91c169",
   "metadata": {},
   "outputs": [],
   "source": [
    "##### INSERT YOUR CODE HERE ######"
   ]
  },
  {
   "cell_type": "markdown",
   "id": "a80b0eac-e128-4cab-b5a8-46e8b4480643",
   "metadata": {
    "tags": []
   },
   "source": [
    "### Challenge 4: \n",
    "- Create a feature the distance between the current transaction location and an arbitrary geopoint, e.g Washington D.C (Longitude: -77.009056, Latitude: 38.889805)\n",
    "\n",
    "💡**Hint**: Here's a python function to compute a distance between two sets of coordinates (in kilometers)\n",
    "```python\n",
    "from math import radians, cos, sin, asin, sqrt\n",
    "\n",
    "def haversine(lon1, lat1, lon2, lat2):\n",
    "    \"\"\"\n",
    "    Calculate the great circle distance in kilometers between two points \n",
    "    on the earth (specified in decimal degrees)\n",
    "    \"\"\"\n",
    "    # convert decimal degrees to radians \n",
    "    lon1, lat1, lon2, lat2 = map(radians, [lon1, lat1, lon2, lat2])\n",
    "\n",
    "    # haversine formula \n",
    "    dlon = lon2 - lon1 \n",
    "    dlat = lat2 - lat1 \n",
    "    a = sin(dlat/2)**2 + cos(lat1) * cos(lat2) * sin(dlon/2)**2\n",
    "    c = 2 * asin(sqrt(a)) \n",
    "    r = 6371 # Radius of earth in kilometers. Use 3956 for miles. Determines return value units.\n",
    "    return c * r\n",
    "```"
   ]
  },
  {
   "cell_type": "code",
   "execution_count": 6,
   "id": "29ba21be-91e2-4e07-924c-5e12cee3870e",
   "metadata": {
    "tags": []
   },
   "outputs": [],
   "source": [
    "##### INSERT YOUR CODE HERE ######"
   ]
  },
  {
   "cell_type": "code",
   "execution_count": null,
   "id": "1fc3bf54-b207-4075-9485-84933b9e2e21",
   "metadata": {},
   "outputs": [],
   "source": []
  }
 ],
 "metadata": {
  "kernelspec": {
   "display_name": "conda_python3",
   "language": "python",
   "name": "conda_python3"
  },
  "language_info": {
   "codemirror_mode": {
    "name": "ipython",
    "version": 3
   },
   "file_extension": ".py",
   "mimetype": "text/x-python",
   "name": "python",
   "nbconvert_exporter": "python",
   "pygments_lexer": "ipython3",
   "version": "3.10.10"
  }
 },
 "nbformat": 4,
 "nbformat_minor": 5
}
