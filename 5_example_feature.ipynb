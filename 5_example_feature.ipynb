{
 "cells": [
  {
   "cell_type": "markdown",
   "id": "6fd599f6-d3bf-4703-9e81-15b352f09fe3",
   "metadata": {
    "tags": []
   },
   "source": [
    "# Example Feature View: 2 ways to implement the same feature\n",
    "\n",
    "In this notebook we will run through 2 ways to implement an example feature. This will be a great way to put all of your new Tecton skills to the test\n",
    "\n",
    "Imagine a scenario where you want to build a complex feature that creates bins based on a user's sum of transaction amounts for the previous month. This feature could power a model that runs in batch on a monthly basis, on the first day of each month.\n",
    "\n",
    "In order to build the feature, we will use 2 methods:\n",
    "- Using Incremental backfills (see notebook 4) and a custom SQL query to define the aggregation and the binning logic\n",
    "- Using Tecton's Aggregation to define the aggregation logic (see notebook 2) and apply an On-demand Feature view (see notebook 3) on top of it to execute the binning logic on the fly."
   ]
  },
  {
   "cell_type": "markdown",
   "id": "b96f427a-b637-43b4-8782-5868ea6af1bf",
   "metadata": {
    "tags": []
   },
   "source": [
    "### 1. Setting-up connections\n",
    "Note we're downgrading tecton to 0.6.1 as there is a bug for incremental backfills in version 0.7.2. Don't forget to restart the kernel after running the below command"
   ]
  },
  {
   "cell_type": "code",
   "execution_count": null,
   "id": "3507da42-ce32-415d-93df-69825ae09f22",
   "metadata": {},
   "outputs": [],
   "source": [
    "%pip install tecton[snowflake]==0.6.1"
   ]
  },
  {
   "cell_type": "code",
   "execution_count": 2,
   "id": "6a68a57a-a5bf-4647-bc62-da04d4f6a6b8",
   "metadata": {
    "tags": []
   },
   "outputs": [],
   "source": [
    "import logging\n",
    "import os\n",
    "import tecton\n",
    "from dotenv import load_dotenv, find_dotenv\n",
    "import pandas as pd\n",
    "import snowflake.connector\n",
    "from datetime import datetime, timedelta\n",
    "from pprint import pprint\n",
    "\n",
    "load_dotenv(find_dotenv())  # take environment variables from .env.\n",
    "\n",
    "logging.getLogger('snowflake.connector').setLevel(logging.WARNING)\n",
    "logging.getLogger('snowflake.snowpark').setLevel(logging.WARNING)"
   ]
  },
  {
   "cell_type": "code",
   "execution_count": 3,
   "id": "f95d2428-d840-4d31-805b-d9a2ad4fdf90",
   "metadata": {
    "tags": []
   },
   "outputs": [
    {
     "name": "stdout",
     "output_type": "stream",
     "text": [
      "env: SNOWFLAKE_USER=DEMO_USER\n",
      "env: SNOWFLAKE_PASSWORD=tecton123!\n",
      "env: SNOWFLAKE_ACCOUNT=tectonpartner-tecton_demo_usaa\n"
     ]
    }
   ],
   "source": [
    "#Details were sent in an email\n",
    "%env SNOWFLAKE_USER=DEMO_USER\n",
    "%env SNOWFLAKE_PASSWORD=tecton123!\n",
    "%env SNOWFLAKE_ACCOUNT=tectonpartner-tecton_demo_usaa"
   ]
  },
  {
   "cell_type": "code",
   "execution_count": 39,
   "id": "8c42094b-986c-4f2c-8da6-ec7296a3c61c",
   "metadata": {
    "tags": []
   },
   "outputs": [
    {
     "name": "stdout",
     "output_type": "stream",
     "text": [
      "dotenv location: \n",
      "Version: 0.6.1\n",
      "Git Commit: 8cadbebe11bebac828a5103ccaf1ad792f16d50b\n",
      "Build Datetime: 2023-03-15T17:57:29\n"
     ]
    }
   ],
   "source": [
    "connection_parameters = {\n",
    "    \"user\": os.environ['SNOWFLAKE_USER'],\n",
    "    \"password\": os.environ['SNOWFLAKE_PASSWORD'],\n",
    "    \"account\": os.environ['SNOWFLAKE_ACCOUNT'],\n",
    "    \"warehouse\": \"TRIAL_WAREHOUSE\",\n",
    "    # Database and schema are required to create various temporary objects by tecton\n",
    "    \"database\": \"USAA_DEMO\",\n",
    "    \"schema\": \"PUBLIC\",\n",
    "}\n",
    "conn = snowflake.connector.connect(**connection_parameters)\n",
    "tecton.snowflake_context.set_connection(conn) # Tecton will use this Snowflake connection for all interactive queries\n",
    "\n",
    "\n",
    "# Quick helper function to query snowflake from a notebook\n",
    "# Make sure to replace with the appropriate connection details for your own account\n",
    "def query_snowflake(query):\n",
    "    df = conn.cursor().execute(query).fetch_pandas_all()\n",
    "    return df\n",
    "\n",
    "print(\"dotenv location: \" + find_dotenv())\n",
    "tecton.version.summary()"
   ]
  },
  {
   "cell_type": "markdown",
   "id": "a6f80a65-bc13-49b4-ae61-fe008022049a",
   "metadata": {
    "tags": []
   },
   "source": [
    "### 2. First method using incremental backfills\n",
    "Incremental backfills can't be tested interactively in a notebook so we will need to apply the feature view definition to our Tecton workspace and then test the feature view using .run()\n",
    "\n",
    "create a file `users_monthly_total.py` in `feature_repo/features/batch_feature_views`\n",
    "\n",
    "copy the following feature definition into the file:\n",
    "\n",
    "```python\n",
    "from tecton import batch_feature_view, materialization_context\n",
    "from entities import user\n",
    "from data_sources.transactions import transactions\n",
    "from datetime import datetime, timedelta\n",
    "\n",
    "\n",
    "@batch_feature_view(\n",
    "    sources=[transactions],\n",
    "    entities=[user],\n",
    "    mode=\"snowflake_sql\",\n",
    "    online=True,\n",
    "    offline=True,\n",
    "    batch_schedule=timedelta(days=1),\n",
    "    feature_start_time=datetime(2023, 8, 1),\n",
    "    ttl=timedelta(days=30),\n",
    "    incremental_backfills=True,\n",
    ")\n",
    "def transaction_sum_binned(transactions, context = materialization_context()):\n",
    "    return f'''\n",
    "    with PREVIOUS_MONTH_TOTALS as (\n",
    "        select \n",
    "            USER_ID,\n",
    "            TO_TIMESTAMP('{context.end_time}') - INTERVAL '1 MICROSECOND' AS TIMESTAMP,\n",
    "            sum(AMT) as AMT_SUM\n",
    "        from {transactions}\n",
    "            where TIMESTAMP < TO_TIMESTAMP('{context.end_time}') -- since this would run on the first day of the month, context.end_time would be eg. 2023-08-01 00:00:00\n",
    "            and TIMESTAMP >= last_day( TO_TIMESTAMP('{context.end_time}')-interval '2 month' ) + interval '1 day' -- this computes the first day of the previous month\n",
    "        group by USER_ID, TIMESTAMP\n",
    ")\n",
    "\n",
    "select \n",
    "    USER_ID,\n",
    "    TIMESTAMP,\n",
    "    case \n",
    "        when AMT_SUM <100 then '0-100'\n",
    "        when AMT_SUM >=100 and AMT_SUM<100 then '100-1000'\n",
    "        else '1000+'\n",
    "    end as LAST_MONTH_SPEND_BIN\n",
    "    \n",
    "    from PREVIOUS_MONTH_TOTALS LIMIT\n",
    "    '''\n",
    "```\n",
    "Then, call `tecton plan` and `tecton apply` to push this new feature to your development workspace\n",
    "Once `tecton apply` run successfully, we can retrieve the feature view from our workspace"
   ]
  },
  {
   "cell_type": "code",
   "execution_count": 46,
   "id": "f3b01154-dd73-4214-825c-a299edc77674",
   "metadata": {
    "collapsed": true,
    "jupyter": {
     "outputs_hidden": true
    },
    "tags": []
   },
   "outputs": [
    {
     "ename": "TectonValidationError",
     "evalue": "Feature View 'transaction_sum_binned:v1' not found. Try running `workspace.list_feature_views()` to view all registered Feature Views.",
     "output_type": "error",
     "traceback": [
      "\u001b[0;31m---------------------------------------------------------------------------\u001b[0m",
      "\u001b[0;31mTectonValidationError\u001b[0m                     Traceback (most recent call last)",
      "Cell \u001b[0;32mIn[46], line 2\u001b[0m\n\u001b[1;32m      1\u001b[0m ws \u001b[38;5;241m=\u001b[39m tecton\u001b[38;5;241m.\u001b[39mget_workspace(\u001b[38;5;124m'\u001b[39m\u001b[38;5;124mdemo-vince\u001b[39m\u001b[38;5;124m'\u001b[39m) \u001b[38;5;66;03m## Replace with your workspace\u001b[39;00m\n\u001b[0;32m----> 2\u001b[0m fv \u001b[38;5;241m=\u001b[39m \u001b[43mws\u001b[49m\u001b[38;5;241;43m.\u001b[39;49m\u001b[43mget_feature_view\u001b[49m\u001b[43m(\u001b[49m\u001b[38;5;124;43m'\u001b[39;49m\u001b[38;5;124;43mtransaction_sum_binned:v1\u001b[39;49m\u001b[38;5;124;43m'\u001b[39;49m\u001b[43m)\u001b[49m\n",
      "File \u001b[0;32m~/anaconda3/envs/python3/lib/python3.10/site-packages/tecton/_internals/sdk_decorators.py:162\u001b[0m, in \u001b[0;36msdk_public_method.<locals>.inner_decorator.<locals>._sdk_public_method_wrapper\u001b[0;34m(*args, **kwargs)\u001b[0m\n\u001b[1;32m    160\u001b[0m \u001b[38;5;28;01mtry\u001b[39;00m:\n\u001b[1;32m    161\u001b[0m     thread_local_data\u001b[38;5;241m.\u001b[39min_tecton_sdk_public_method_wrapper \u001b[38;5;241m=\u001b[39m \u001b[38;5;28;01mTrue\u001b[39;00m\n\u001b[0;32m--> 162\u001b[0m     \u001b[38;5;28;01mreturn\u001b[39;00m \u001b[43m_invoke_and_transform_errors\u001b[49m\u001b[43m(\u001b[49m\n\u001b[1;32m    163\u001b[0m \u001b[43m        \u001b[49m\u001b[43mtarget_func\u001b[49m\u001b[43m,\u001b[49m\u001b[43m \u001b[49m\u001b[43margs\u001b[49m\u001b[43m,\u001b[49m\u001b[43m \u001b[49m\u001b[43mkwargs\u001b[49m\u001b[43m,\u001b[49m\u001b[43m \u001b[49m\u001b[43marg_names\u001b[49m\u001b[43m,\u001b[49m\u001b[43m \u001b[49m\u001b[43manalytics\u001b[49m\u001b[43m \u001b[49m\u001b[38;5;129;43;01mis\u001b[39;49;00m\u001b[43m \u001b[49m\u001b[38;5;129;43;01mnot\u001b[39;49;00m\u001b[43m \u001b[49m\u001b[38;5;28;43;01mNone\u001b[39;49;00m\u001b[43m,\u001b[49m\u001b[43m \u001b[49m\u001b[38;5;129;43;01mnot\u001b[39;49;00m\u001b[43m \u001b[49m\u001b[43malready_in_wrapper\u001b[49m\u001b[43m,\u001b[49m\u001b[43m \u001b[49m\u001b[43mtypecheck\u001b[49m\u001b[38;5;241;43m=\u001b[39;49m\u001b[38;5;28;43;01mTrue\u001b[39;49;00m\n\u001b[1;32m    164\u001b[0m \u001b[43m    \u001b[49m\u001b[43m)\u001b[49m\n\u001b[1;32m    165\u001b[0m \u001b[38;5;28;01mfinally\u001b[39;00m:\n\u001b[1;32m    166\u001b[0m     thread_local_data\u001b[38;5;241m.\u001b[39min_tecton_sdk_public_method_wrapper \u001b[38;5;241m=\u001b[39m already_in_wrapper\n",
      "File \u001b[0;32m~/anaconda3/envs/python3/lib/python3.10/site-packages/tecton/_internals/sdk_decorators.py:214\u001b[0m, in \u001b[0;36m_invoke_and_transform_errors\u001b[0;34m(func, args, kwargs, arg_names, log_analytics, is_top_level, typecheck)\u001b[0m\n\u001b[1;32m    211\u001b[0m return_value \u001b[38;5;241m=\u001b[39m \u001b[38;5;28;01mNone\u001b[39;00m\n\u001b[1;32m    213\u001b[0m \u001b[38;5;28;01mtry\u001b[39;00m:\n\u001b[0;32m--> 214\u001b[0m     return_value \u001b[38;5;241m=\u001b[39m \u001b[43mfunc\u001b[49m\u001b[43m(\u001b[49m\u001b[38;5;241;43m*\u001b[39;49m\u001b[43margs\u001b[49m\u001b[43m,\u001b[49m\u001b[43m \u001b[49m\u001b[38;5;241;43m*\u001b[39;49m\u001b[38;5;241;43m*\u001b[39;49m\u001b[43mkwargs\u001b[49m\u001b[43m)\u001b[49m\n\u001b[1;32m    215\u001b[0m     caught_exception \u001b[38;5;241m=\u001b[39m \u001b[38;5;28;01mNone\u001b[39;00m\n\u001b[1;32m    216\u001b[0m     \u001b[38;5;28;01mreturn\u001b[39;00m return_value\n",
      "File \u001b[0;32m~/anaconda3/envs/python3/lib/python3.10/site-packages/typeguard/__init__.py:1033\u001b[0m, in \u001b[0;36mtypechecked.<locals>.wrapper\u001b[0;34m(*args, **kwargs)\u001b[0m\n\u001b[1;32m   1031\u001b[0m memo \u001b[38;5;241m=\u001b[39m _CallMemo(python_func, _localns, args\u001b[38;5;241m=\u001b[39margs, kwargs\u001b[38;5;241m=\u001b[39mkwargs)\n\u001b[1;32m   1032\u001b[0m check_argument_types(memo)\n\u001b[0;32m-> 1033\u001b[0m retval \u001b[38;5;241m=\u001b[39m \u001b[43mfunc\u001b[49m\u001b[43m(\u001b[49m\u001b[38;5;241;43m*\u001b[39;49m\u001b[43margs\u001b[49m\u001b[43m,\u001b[49m\u001b[43m \u001b[49m\u001b[38;5;241;43m*\u001b[39;49m\u001b[38;5;241;43m*\u001b[39;49m\u001b[43mkwargs\u001b[49m\u001b[43m)\u001b[49m\n\u001b[1;32m   1034\u001b[0m \u001b[38;5;28;01mtry\u001b[39;00m:\n\u001b[1;32m   1035\u001b[0m     check_return_type(retval, memo)\n",
      "File \u001b[0;32m~/anaconda3/envs/python3/lib/python3.10/site-packages/tecton/framework/workspace.py:170\u001b[0m, in \u001b[0;36mWorkspace.get_feature_view\u001b[0;34m(self, name)\u001b[0m\n\u001b[1;32m    167\u001b[0m feature_view_spec \u001b[38;5;241m=\u001b[39m fco_container\u001b[38;5;241m.\u001b[39mget_single_root()\n\u001b[1;32m    169\u001b[0m \u001b[38;5;28;01mif\u001b[39;00m feature_view_spec \u001b[38;5;129;01mis\u001b[39;00m \u001b[38;5;28;01mNone\u001b[39;00m:\n\u001b[0;32m--> 170\u001b[0m     \u001b[38;5;28;01mraise\u001b[39;00m errors\u001b[38;5;241m.\u001b[39mTectonValidationError(\n\u001b[1;32m    171\u001b[0m         \u001b[38;5;124mf\u001b[39m\u001b[38;5;124m\"\u001b[39m\u001b[38;5;124mFeature View \u001b[39m\u001b[38;5;124m'\u001b[39m\u001b[38;5;132;01m{\u001b[39;00mname\u001b[38;5;132;01m}\u001b[39;00m\u001b[38;5;124m'\u001b[39m\u001b[38;5;124m not found. Try running `workspace.list_feature_views()` to view all registered Feature Views.\u001b[39m\u001b[38;5;124m\"\u001b[39m\n\u001b[1;32m    172\u001b[0m     )\n\u001b[1;32m    174\u001b[0m \u001b[38;5;28;01massert\u001b[39;00m \u001b[38;5;28misinstance\u001b[39m(feature_view_spec, specs\u001b[38;5;241m.\u001b[39mFeatureViewSpec)\n\u001b[1;32m    176\u001b[0m \u001b[38;5;28;01mif\u001b[39;00m \u001b[38;5;28misinstance\u001b[39m(feature_view_spec, specs\u001b[38;5;241m.\u001b[39mFeatureTableSpec):\n",
      "\u001b[0;31mTectonValidationError\u001b[0m: Feature View 'transaction_sum_binned:v1' not found. Try running `workspace.list_feature_views()` to view all registered Feature Views."
     ]
    }
   ],
   "source": [
    "ws = tecton.get_workspace('demo-vince') ## Replace with your workspace\n",
    "fv = ws.get_feature_view('transaction_sum_binned')"
   ]
  },
  {
   "cell_type": "markdown",
   "id": "5d09631f-03a7-4224-9e0b-89afd6e675ce",
   "metadata": {},
   "source": [
    "**Note** Because the feature view has been applied to a dev workspace, there is not data in the offline store and we can't use get_historical_features() to produce historical feature values. For testing purposes, we can call .run() and run the feature logic for **1 materialization period**.\n",
    "\n",
    "If you wanted to use this feature to generate training datasets or serve feature values to your production models, you would need to apply this feature view to a production workspace"
   ]
  },
  {
   "cell_type": "code",
   "execution_count": 40,
   "id": "148ee418-0d87-42f0-9302-4d61a130ed68",
   "metadata": {
    "tags": []
   },
   "outputs": [
    {
     "data": {
      "text/html": [
       "<div>\n",
       "<style scoped>\n",
       "    .dataframe tbody tr th:only-of-type {\n",
       "        vertical-align: middle;\n",
       "    }\n",
       "\n",
       "    .dataframe tbody tr th {\n",
       "        vertical-align: top;\n",
       "    }\n",
       "\n",
       "    .dataframe thead th {\n",
       "        text-align: right;\n",
       "    }\n",
       "</style>\n",
       "<table border=\"1\" class=\"dataframe\">\n",
       "  <thead>\n",
       "    <tr style=\"text-align: right;\">\n",
       "      <th></th>\n",
       "      <th>USER_ID</th>\n",
       "      <th>TIMESTAMP</th>\n",
       "      <th>LAST_MONTH_SPEND_BIN</th>\n",
       "    </tr>\n",
       "  </thead>\n",
       "  <tbody>\n",
       "    <tr>\n",
       "      <th>0</th>\n",
       "      <td>user_568801468984</td>\n",
       "      <td>2023-07-31 23:59:59.999999</td>\n",
       "      <td>0-100</td>\n",
       "    </tr>\n",
       "    <tr>\n",
       "      <th>1</th>\n",
       "      <td>user_871233292771</td>\n",
       "      <td>2023-07-31 23:59:59.999999</td>\n",
       "      <td>0-100</td>\n",
       "    </tr>\n",
       "    <tr>\n",
       "      <th>2</th>\n",
       "      <td>user_222506789984</td>\n",
       "      <td>2023-07-31 23:59:59.999999</td>\n",
       "      <td>0-100</td>\n",
       "    </tr>\n",
       "    <tr>\n",
       "      <th>3</th>\n",
       "      <td>user_722584453020</td>\n",
       "      <td>2023-07-31 23:59:59.999999</td>\n",
       "      <td>0-100</td>\n",
       "    </tr>\n",
       "    <tr>\n",
       "      <th>4</th>\n",
       "      <td>user_939970169861</td>\n",
       "      <td>2023-07-31 23:59:59.999999</td>\n",
       "      <td>1000+</td>\n",
       "    </tr>\n",
       "  </tbody>\n",
       "</table>\n",
       "</div>"
      ],
      "text/plain": [
       "             USER_ID                  TIMESTAMP LAST_MONTH_SPEND_BIN\n",
       "0  user_568801468984 2023-07-31 23:59:59.999999                0-100\n",
       "1  user_871233292771 2023-07-31 23:59:59.999999                0-100\n",
       "2  user_222506789984 2023-07-31 23:59:59.999999                0-100\n",
       "3  user_722584453020 2023-07-31 23:59:59.999999                0-100\n",
       "4  user_939970169861 2023-07-31 23:59:59.999999                1000+"
      ]
     },
     "execution_count": 40,
     "metadata": {},
     "output_type": "execute_result"
    }
   ],
   "source": [
    "fv.run(start_time=datetime(2023,7,31), end_time=datetime(2023,8,1)).to_pandas().head()"
   ]
  },
  {
   "cell_type": "markdown",
   "id": "3e350bcc-04c7-476b-ba5b-65aaa7eb9a6d",
   "metadata": {
    "tags": []
   },
   "source": [
    "### 3. Second method using Tecton's Aggregation framework + an On-demand Feature view\n",
    "Note that compared to the previous method, this one will look back exactly 30 days prior to the day at which the materialization job runs. Which means that the aggregates are not always computed based on the first day of the previous month. Usually, this won't make a significant difference from a model performance standpoint.\n",
    "\n",
    "Here, we build and test a Batch Feature View in the notebook"
   ]
  },
  {
   "cell_type": "code",
   "execution_count": 33,
   "id": "36d75124-f4ef-4258-a533-7aaebd5aa5c4",
   "metadata": {
    "tags": []
   },
   "outputs": [
    {
     "name": "stdout",
     "output_type": "stream",
     "text": [
      "BatchFeatureView 'binned_sum': Validating 1 of 3 dependencies. (2 already validated)\n",
      "    Transformation 'binned_sum': Successfully validated.\n",
      "BatchFeatureView 'binned_sum': Successfully validated.\n"
     ]
    }
   ],
   "source": [
    "from tecton import batch_feature_view, Aggregation\n",
    "\n",
    "transaction_source = ws.get_data_source('transactions')\n",
    "user = ws.get_entity('fraud_user')\n",
    "\n",
    "\n",
    "@batch_feature_view(\n",
    "    sources=[transaction_source],\n",
    "    entities=[user],\n",
    "    mode=\"snowflake_sql\",\n",
    "    aggregations=[Aggregation(column='AMT', function='sum', time_window=timedelta(days=30))],\n",
    "    aggregation_interval=timedelta(days=1)\n",
    ")\n",
    "def binned_sum(transactions):\n",
    "    return f'''\n",
    "    SELECT USER_ID, TIMESTAMP, AMT\n",
    "    FROM {transactions}\n",
    "    '''\n",
    "\n",
    "binned_sum.validate()\n"
   ]
  },
  {
   "cell_type": "code",
   "execution_count": 18,
   "id": "ee810167-60bc-4c94-af69-356d88157732",
   "metadata": {
    "tags": []
   },
   "outputs": [
    {
     "name": "stderr",
     "output_type": "stream",
     "text": [
      "INFO - 08/08/2023 12:30:54 AM - FeatureView - 1 Feature View is being computed directly from raw data sources.\n"
     ]
    },
    {
     "data": {
      "text/html": [
       "<div>\n",
       "<style scoped>\n",
       "    .dataframe tbody tr th:only-of-type {\n",
       "        vertical-align: middle;\n",
       "    }\n",
       "\n",
       "    .dataframe tbody tr th {\n",
       "        vertical-align: top;\n",
       "    }\n",
       "\n",
       "    .dataframe thead th {\n",
       "        text-align: right;\n",
       "    }\n",
       "</style>\n",
       "<table border=\"1\" class=\"dataframe\">\n",
       "  <thead>\n",
       "    <tr style=\"text-align: right;\">\n",
       "      <th></th>\n",
       "      <th>USER_ID</th>\n",
       "      <th>TIMESTAMP</th>\n",
       "      <th>AMT_SUM_30D_1D</th>\n",
       "    </tr>\n",
       "  </thead>\n",
       "  <tbody>\n",
       "    <tr>\n",
       "      <th>0</th>\n",
       "      <td>user_722584453020</td>\n",
       "      <td>2023-07-31</td>\n",
       "      <td>2172690.08</td>\n",
       "    </tr>\n",
       "    <tr>\n",
       "      <th>1</th>\n",
       "      <td>user_884240387242</td>\n",
       "      <td>2023-07-31</td>\n",
       "      <td>4403373.43</td>\n",
       "    </tr>\n",
       "    <tr>\n",
       "      <th>2</th>\n",
       "      <td>user_504831693</td>\n",
       "      <td>2023-07-31</td>\n",
       "      <td>26977.66</td>\n",
       "    </tr>\n",
       "    <tr>\n",
       "      <th>3</th>\n",
       "      <td>user_950482239421</td>\n",
       "      <td>2023-07-31</td>\n",
       "      <td>1084055.50</td>\n",
       "    </tr>\n",
       "    <tr>\n",
       "      <th>4</th>\n",
       "      <td>user_212730160038</td>\n",
       "      <td>2023-07-31</td>\n",
       "      <td>485068.66</td>\n",
       "    </tr>\n",
       "  </tbody>\n",
       "</table>\n",
       "</div>"
      ],
      "text/plain": [
       "             USER_ID  TIMESTAMP  AMT_SUM_30D_1D\n",
       "0  user_722584453020 2023-07-31      2172690.08\n",
       "1  user_884240387242 2023-07-31      4403373.43\n",
       "2     user_504831693 2023-07-31        26977.66\n",
       "3  user_950482239421 2023-07-31      1084055.50\n",
       "4  user_212730160038 2023-07-31       485068.66"
      ]
     },
     "execution_count": 18,
     "metadata": {},
     "output_type": "execute_result"
    }
   ],
   "source": [
    "binned_sum.get_historical_features(\n",
    "start_time=datetime(2023,7,31),\n",
    "end_time=datetime(2023,8,1)\n",
    ").to_pandas().head()"
   ]
  },
  {
   "cell_type": "markdown",
   "id": "ab838270-c36c-48c8-80af-fe59e5501a88",
   "metadata": {},
   "source": [
    "Our Batch Feature View only returns the sum of transaction amounts for the last 30 days, we need to apply further logic on top of the pre-computed feature to bin the feature values into different categories, we can do so using an On-Demand Feature View. In the ODFV source, we use the Batch Feature View we defined earlier to declare the dependency."
   ]
  },
  {
   "cell_type": "code",
   "execution_count": 43,
   "id": "12425cea-728a-4cee-97e6-4bb2e65f37f5",
   "metadata": {
    "tags": []
   },
   "outputs": [
    {
     "name": "stdout",
     "output_type": "stream",
     "text": [
      "OnDemandFeatureView 'binned_spend': Validating 1 of 2 dependencies. (1 already validated)\n",
      "    Transformation 'binned_spend': Successfully validated.\n",
      "OnDemandFeatureView 'binned_spend': Successfully validated.\n"
     ]
    }
   ],
   "source": [
    "from tecton import on_demand_feature_view, RequestSource\n",
    "from tecton.types import String, Field\n",
    "\n",
    "@on_demand_feature_view(\n",
    "    sources=[binned_sum],\n",
    "    mode='python',\n",
    "    schema=[Field('LAST_MONTH_SPEND_BIN',String)]\n",
    ")\n",
    "def binned_spend(binned_sum):\n",
    "    if binned_sum['AMT_SUM_30D_1D']<100:\n",
    "        return {'LAST_MONTH_SPEND_BIN':'0-100'}\n",
    "    elif binned_sum['AMT_SUM_30D_1D']>=100 and binned_sum['AMT_SUM_30D_1D']<1000:\n",
    "        return {'LAST_MONTH_SPEND_BIN':'100-1000'}\n",
    "    else:\n",
    "        return {'LAST_MONTH_SPEND_BIN':'1000+'}\n",
    "\n",
    "binned_spend.validate()"
   ]
  },
  {
   "cell_type": "markdown",
   "id": "acec4ad5-26bb-4591-bb20-c99bbed1aa50",
   "metadata": {},
   "source": [
    "Now we can test our new feature against a spine dataframe containing USER_IDs and transactions for August 1st 2023 using `get_historical_features()`"
   ]
  },
  {
   "cell_type": "code",
   "execution_count": 27,
   "id": "3df44eea-2ad8-4c93-a4e2-73f0bb84ba2f",
   "metadata": {
    "tags": []
   },
   "outputs": [],
   "source": [
    "transactions_query = '''\n",
    "SELECT \n",
    "    *\n",
    "FROM \n",
    "    TECTON_DEMO_DATA.FRAUD_DEMO.TRANSACTIONS\n",
    "WHERE TIMESTAMP <'2023-08-02' and TIMESTAMP>='2023-08-01'\n",
    "ORDER BY TIMESTAMP DESC\n",
    "LIMIT 50\n",
    "'''\n",
    "transactions = query_snowflake(transactions_query)"
   ]
  },
  {
   "cell_type": "code",
   "execution_count": 44,
   "id": "ba16d087-c39a-4b67-8087-12327258574c",
   "metadata": {
    "tags": []
   },
   "outputs": [
    {
     "name": "stderr",
     "output_type": "stream",
     "text": [
      "INFO - 08/09/2023 01:44:43 AM - FeatureView - 1 Feature View is being computed directly from raw data sources.\n",
      "INFO - 08/09/2023 01:44:43 AM - FeatureView - 1 On-Demand Feature View is being computed ad hoc.\n"
     ]
    },
    {
     "data": {
      "text/html": [
       "<div>\n",
       "<style scoped>\n",
       "    .dataframe tbody tr th:only-of-type {\n",
       "        vertical-align: middle;\n",
       "    }\n",
       "\n",
       "    .dataframe tbody tr th {\n",
       "        vertical-align: top;\n",
       "    }\n",
       "\n",
       "    .dataframe thead th {\n",
       "        text-align: right;\n",
       "    }\n",
       "</style>\n",
       "<table border=\"1\" class=\"dataframe\">\n",
       "  <thead>\n",
       "    <tr style=\"text-align: right;\">\n",
       "      <th></th>\n",
       "      <th>USER_ID</th>\n",
       "      <th>TIMESTAMP</th>\n",
       "      <th>TRANSACTION_ID</th>\n",
       "      <th>CATEGORY</th>\n",
       "      <th>AMT</th>\n",
       "      <th>IS_FRAUD</th>\n",
       "      <th>MERCHANT</th>\n",
       "      <th>MERCH_LAT</th>\n",
       "      <th>MERCH_LONG</th>\n",
       "      <th>LAST_MONTH_SPEND_BIN</th>\n",
       "    </tr>\n",
       "  </thead>\n",
       "  <tbody>\n",
       "    <tr>\n",
       "      <th>0</th>\n",
       "      <td>user_950482239421</td>\n",
       "      <td>2023-08-01 23:59:57.901819</td>\n",
       "      <td>43afe63f6909ba0ff40f38aef549f721</td>\n",
       "      <td>entertainment</td>\n",
       "      <td>69.80</td>\n",
       "      <td>0</td>\n",
       "      <td>fraud_Parker, Nolan and Trantow</td>\n",
       "      <td>42.507625</td>\n",
       "      <td>-91.994007</td>\n",
       "      <td>1000+</td>\n",
       "    </tr>\n",
       "    <tr>\n",
       "      <th>1</th>\n",
       "      <td>user_884240387242</td>\n",
       "      <td>2023-08-01 23:59:56.082528</td>\n",
       "      <td>ce1a2a3bce28b811ef98c47ca9edea81</td>\n",
       "      <td>entertainment</td>\n",
       "      <td>5.24</td>\n",
       "      <td>0</td>\n",
       "      <td>fraud_Effertz, Welch and Schowalter</td>\n",
       "      <td>42.959015</td>\n",
       "      <td>-79.653563</td>\n",
       "      <td>1000+</td>\n",
       "    </tr>\n",
       "    <tr>\n",
       "      <th>2</th>\n",
       "      <td>user_950482239421</td>\n",
       "      <td>2023-08-01 23:59:54.478604</td>\n",
       "      <td>21139ab8d43ce9a8e8fd90b5c68d0134</td>\n",
       "      <td>grocery_pos</td>\n",
       "      <td>111.08</td>\n",
       "      <td>0</td>\n",
       "      <td>fraud_Vandervort-Funk</td>\n",
       "      <td>42.479133</td>\n",
       "      <td>-92.856980</td>\n",
       "      <td>1000+</td>\n",
       "    </tr>\n",
       "    <tr>\n",
       "      <th>3</th>\n",
       "      <td>user_609904782486</td>\n",
       "      <td>2023-08-01 23:59:52.291035</td>\n",
       "      <td>c5cf400f6c750c6f275b494a1c1653c0</td>\n",
       "      <td>kids_pets</td>\n",
       "      <td>80.01</td>\n",
       "      <td>0</td>\n",
       "      <td>fraud_Ullrich Ltd</td>\n",
       "      <td>21.171019</td>\n",
       "      <td>-158.546336</td>\n",
       "      <td>1000+</td>\n",
       "    </tr>\n",
       "    <tr>\n",
       "      <th>4</th>\n",
       "      <td>user_724235628997</td>\n",
       "      <td>2023-08-01 23:59:49.901918</td>\n",
       "      <td>92803946af922a601bcb96e64aac6871</td>\n",
       "      <td>home</td>\n",
       "      <td>34.79</td>\n",
       "      <td>0</td>\n",
       "      <td>fraud_Cole, Hills and Jewess</td>\n",
       "      <td>35.276528</td>\n",
       "      <td>-92.536872</td>\n",
       "      <td>1000+</td>\n",
       "    </tr>\n",
       "  </tbody>\n",
       "</table>\n",
       "</div>"
      ],
      "text/plain": [
       "             USER_ID                  TIMESTAMP  \\\n",
       "0  user_950482239421 2023-08-01 23:59:57.901819   \n",
       "1  user_884240387242 2023-08-01 23:59:56.082528   \n",
       "2  user_950482239421 2023-08-01 23:59:54.478604   \n",
       "3  user_609904782486 2023-08-01 23:59:52.291035   \n",
       "4  user_724235628997 2023-08-01 23:59:49.901918   \n",
       "\n",
       "                     TRANSACTION_ID       CATEGORY     AMT  IS_FRAUD  \\\n",
       "0  43afe63f6909ba0ff40f38aef549f721  entertainment   69.80         0   \n",
       "1  ce1a2a3bce28b811ef98c47ca9edea81  entertainment    5.24         0   \n",
       "2  21139ab8d43ce9a8e8fd90b5c68d0134    grocery_pos  111.08         0   \n",
       "3  c5cf400f6c750c6f275b494a1c1653c0      kids_pets   80.01         0   \n",
       "4  92803946af922a601bcb96e64aac6871           home   34.79         0   \n",
       "\n",
       "                              MERCHANT  MERCH_LAT  MERCH_LONG  \\\n",
       "0      fraud_Parker, Nolan and Trantow  42.507625  -91.994007   \n",
       "1  fraud_Effertz, Welch and Schowalter  42.959015  -79.653563   \n",
       "2                fraud_Vandervort-Funk  42.479133  -92.856980   \n",
       "3                    fraud_Ullrich Ltd  21.171019 -158.546336   \n",
       "4         fraud_Cole, Hills and Jewess  35.276528  -92.536872   \n",
       "\n",
       "  LAST_MONTH_SPEND_BIN  \n",
       "0                1000+  \n",
       "1                1000+  \n",
       "2                1000+  \n",
       "3                1000+  \n",
       "4                1000+  "
      ]
     },
     "execution_count": 44,
     "metadata": {},
     "output_type": "execute_result"
    }
   ],
   "source": [
    "binned_spend.get_historical_features(transactions_query).to_pandas().head()"
   ]
  },
  {
   "cell_type": "code",
   "execution_count": null,
   "id": "6bc5ca57-8ca4-40df-80c6-7f6f86647d41",
   "metadata": {},
   "outputs": [],
   "source": []
  }
 ],
 "metadata": {
  "kernelspec": {
   "display_name": "conda_python3",
   "language": "python",
   "name": "conda_python3"
  },
  "language_info": {
   "codemirror_mode": {
    "name": "ipython",
    "version": 3
   },
   "file_extension": ".py",
   "mimetype": "text/x-python",
   "name": "python",
   "nbconvert_exporter": "python",
   "pygments_lexer": "ipython3",
   "version": "3.10.10"
  }
 },
 "nbformat": 4,
 "nbformat_minor": 5
}
