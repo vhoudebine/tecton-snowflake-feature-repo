{
 "cells": [
  {
   "cell_type": "markdown",
   "metadata": {},
   "source": [
    "# 1. Introduction to Tecton on Snowflake"
   ]
  },
  {
   "cell_type": "markdown",
   "metadata": {},
   "source": [
    "## 1) Setup\n",
    "\n",
    "Before getting started, lets do some setup to get your computer ready to interact with Tecton"
   ]
  },
  {
   "cell_type": "markdown",
   "metadata": {},
   "source": [
    "### 1.1) Install the Tecton CLI on your local machine\n",
    "\n",
    "<div class=\"alert alert-block alert-warning\">\n",
    "Tecton requires Python version 3.8 to run. We also recommend installing tecton into a Python virtual environment.\n",
    "</div>\n",
    "\n",
    "To install the Tecton CLI and other dependencies on your local machine, run the following command:\n",
    "\n",
    "✅ `$ pip install 'tecton[snowflake]'`\n",
    "\n",
    "If you run into any issues, follow [these instructions in the Tecton Docs](https://docs.tecton.ai/docs/setting-up-tecton/development-setup/installing-the-tecton-cli) to set up the Tecton CLI.\n",
    "\n",
    "Once you have finished installing the CLI, you can log in to your Tecton instance using (please replace `<your-cluster>` with your instance name):\n",
    "\n",
    "✅ `$ tecton login <your-instance>.tecton.ai`"
   ]
  },
  {
   "cell_type": "markdown",
   "metadata": {},
   "source": [
    "### 1.2) Clone the Tecton Sample Repository\n",
    "\n",
    "This tutorial will use [a sample repository full of pre-built features and data sources](https://github.com/tecton-ai-ext/tecton-snowflake-feature-repo).\n",
    "\n",
    "Before you get started, clone this repository to your local machine using:\n",
    "\n",
    "✅ `$ git clone https://github.com/tecton-ai-ext/tecton-snowflake-feature-repo.git`"
   ]
  },
  {
   "cell_type": "markdown",
   "metadata": {},
   "source": [
    "### 1.3) Configure your environment with Snowflake Credentials\n",
    "\n",
    "You'll need to set three environment variables to connect to snowflake, we recommend storing them in a file called `.env`\n",
    "* SNOWFLAKE_USER: your username in the Snowflake account that you're using with Tecton\n",
    "* SNOWFLAKE_PASSWORD: your password in in the Snowflake account that you're using with Tecton\n",
    "* SNOWFLAKE_ACCOUNT: the Snowflake account you're using with Tecton (takes the form \\<SNOWFLAKE_ACCOUNT\\>.snowflakecomputing.com\n",
    "\n",
    "You can export the env variables in the cell below"
   ]
  },
  {
   "cell_type": "markdown",
   "metadata": {},
   "source": [
    "### 1.4) Import some packages and check that Tecton is installed\n",
    "\n",
    "✅ Run the cell below. It will infer the Snowflake credentials from the configuration you set earlier."
   ]
  },
  {
   "cell_type": "code",
   "execution_count": 6,
   "metadata": {
    "tags": []
   },
   "outputs": [],
   "source": [
    "# Import Tecton and other libraries\n",
    "import logging\n",
    "import os\n",
    "import tecton\n",
    "from dotenv import load_dotenv, find_dotenv\n",
    "import pandas as pd\n",
    "import snowflake.connector\n",
    "from datetime import datetime, timedelta\n",
    "from pprint import pprint\n",
    "\n",
    "load_dotenv(find_dotenv())  # take environment variables from .env.\n",
    "\n",
    "logging.getLogger('snowflake.connector').setLevel(logging.WARNING)\n",
    "logging.getLogger('snowflake.snowpark').setLevel(logging.WARNING)"
   ]
  },
  {
   "cell_type": "code",
   "execution_count": 7,
   "metadata": {
    "tags": []
   },
   "outputs": [
    {
     "name": "stdout",
     "output_type": "stream",
     "text": [
      "dotenv location: /Users/vincenthoudebine/.env\n",
      "Version: 0.7.0b29\n",
      "Git Commit: 4421324c8d9880367529bc978d7fa27b044b6fa7\n",
      "Build Datetime: 2023-05-16T23:03:03\n"
     ]
    }
   ],
   "source": [
    "connection_parameters = {\n",
    "    \"user\": os.environ['SNOWFLAKE_USER'],\n",
    "    \"password\": os.environ['SNOWFLAKE_PASSWORD'],\n",
    "    \"account\": os.environ['SNOWFLAKE_ACCOUNT'],\n",
    "    \"warehouse\": \"TRIAL_WAREHOUSE\",\n",
    "    # Database and schema are required to create various temporary objects by tecton\n",
    "    \"database\": \"TECTON_DEMO_DATA\",\n",
    "    \"schema\": \"FRAUD_DEMO\",\n",
    "}\n",
    "conn = snowflake.connector.connect(**connection_parameters)\n",
    "tecton.snowflake_context.set_connection(conn) # Tecton will use this Snowflake connection for all interactive queries\n",
    "\n",
    "\n",
    "# Quick helper function to query snowflake from a notebook\n",
    "# Make sure to replace with the appropriate connection details for your own account\n",
    "def query_snowflake(query):\n",
    "    df = conn.cursor().execute(query).fetch_pandas_all()\n",
    "    return df\n",
    "\n",
    "print(\"dotenv location: \" + find_dotenv())\n",
    "tecton.version.summary()"
   ]
  },
  {
   "cell_type": "markdown",
   "metadata": {},
   "source": [
    "## 2) Interacting with Tecton\n",
    "Your Tecton account has been seeded with data and some example features that you can use to test out Tecton.\n",
    "\n",
    "First, you can check out some of the raw data that has been connected to Tecton -- historical transactions.  You'll notice we first select the [Tecton workspace](https://docs.tecton.ai/docs/introduction/tecton-concepts#workspace) that contains the objects we want to fetch.\n"
   ]
  },
  {
   "cell_type": "code",
   "execution_count": 8,
   "metadata": {
    "tags": []
   },
   "outputs": [
    {
     "data": {
      "text/html": [
       "\n",
       "<table>\n",
       "<thead>\n",
       "    <tr>\n",
       "    \n",
       "    </tr>\n",
       "</thead>\n",
       "<tbody>\n",
       "    \n",
       "    <tr>\n",
       "        \n",
       "        \n",
       "        <td style='text-align: left;'>Name</td>\n",
       "        \n",
       "        \n",
       "        \n",
       "        <td style='text-align: left;'>transactions</td>\n",
       "        \n",
       "        \n",
       "    </tr>\n",
       "    \n",
       "    <tr>\n",
       "        \n",
       "        \n",
       "        <td style='text-align: left;'>Workspace</td>\n",
       "        \n",
       "        \n",
       "        \n",
       "        <td style='text-align: left;'>prod</td>\n",
       "        \n",
       "        \n",
       "    </tr>\n",
       "    \n",
       "    <tr>\n",
       "        \n",
       "        \n",
       "        <td style='text-align: left;'>Description</td>\n",
       "        \n",
       "        \n",
       "        \n",
       "        <td style='text-align: left;'></td>\n",
       "        \n",
       "        \n",
       "    </tr>\n",
       "    \n",
       "    <tr>\n",
       "        \n",
       "        \n",
       "        <td style='text-align: left;'>Created At</td>\n",
       "        \n",
       "        \n",
       "        \n",
       "        <td style='text-align: left;'>2023-07-07 17:09:52 UTC</td>\n",
       "        \n",
       "        \n",
       "    </tr>\n",
       "    \n",
       "    <tr>\n",
       "        \n",
       "        \n",
       "        <td style='text-align: left;'>Owner</td>\n",
       "        \n",
       "        \n",
       "        \n",
       "        <td style='text-align: left;'></td>\n",
       "        \n",
       "        \n",
       "    </tr>\n",
       "    \n",
       "    <tr>\n",
       "        \n",
       "        \n",
       "        <td style='text-align: left;'>Last Modified By</td>\n",
       "        \n",
       "        \n",
       "        \n",
       "        <td style='text-align: left;'>jwheeler@tecton.ai</td>\n",
       "        \n",
       "        \n",
       "    </tr>\n",
       "    \n",
       "    <tr>\n",
       "        \n",
       "        \n",
       "        <td style='text-align: left;'>Source Filename</td>\n",
       "        \n",
       "        \n",
       "        \n",
       "        <td style='text-align: left;'>data_sources/transactions.py</td>\n",
       "        \n",
       "        \n",
       "    </tr>\n",
       "    \n",
       "    <tr>\n",
       "        \n",
       "        \n",
       "        <td style='text-align: left;'>Tags</td>\n",
       "        \n",
       "        \n",
       "        \n",
       "        <td style='text-align: left;'>None</td>\n",
       "        \n",
       "        \n",
       "    </tr>\n",
       "    \n",
       "    <tr>\n",
       "        \n",
       "        \n",
       "        <td style='text-align: left;'>URL</td>\n",
       "        \n",
       "        \n",
       "        \n",
       "        <td style='text-align: left;'>https://demo-buddy.tecton.ai/app/repo/prod/data-sources/transactions</td>\n",
       "        \n",
       "        \n",
       "    </tr>\n",
       "    \n",
       "    <tr>\n",
       "        \n",
       "        \n",
       "        <td style='text-align: left;'>Type</td>\n",
       "        \n",
       "        \n",
       "        \n",
       "        <td style='text-align: left;'>Batch</td>\n",
       "        \n",
       "        \n",
       "    </tr>\n",
       "    \n",
       "    <tr>\n",
       "        \n",
       "        \n",
       "        <td style='text-align: left;'>Batch Data Source</td>\n",
       "        \n",
       "        \n",
       "        \n",
       "        <td style='text-align: left;'><pre style='padding: 5px; border:1px solid #efefef'>Type       Snowflake       \n",
       "---------------------------\n",
       "URL                        \n",
       "---------------------------\n",
       "Database   TECTON_DEMO_DATA\n",
       "---------------------------\n",
       "Schema     FRAUD_DEMO      \n",
       "---------------------------\n",
       "Table      TRANSACTIONS    </pre></td>\n",
       "        \n",
       "        \n",
       "    </tr>\n",
       "    \n",
       "</tbody>\n",
       "</table>"
      ],
      "text/plain": [
       "+-------------------+----------------------------------------------------------+\n",
       "| Name              | transactions                                             |\n",
       "+-------------------+----------------------------------------------------------+\n",
       "| Workspace         | prod                                                     |\n",
       "+-------------------+----------------------------------------------------------+\n",
       "| Description       |                                                          |\n",
       "+-------------------+----------------------------------------------------------+\n",
       "| Created At        | 2023-07-07 17:09:52 UTC                                  |\n",
       "+-------------------+----------------------------------------------------------+\n",
       "| Owner             |                                                          |\n",
       "+-------------------+----------------------------------------------------------+\n",
       "| Last Modified By  | jwheeler@tecton.ai                                       |\n",
       "+-------------------+----------------------------------------------------------+\n",
       "| Source Filename   | data_sources/transactions.py                             |\n",
       "+-------------------+----------------------------------------------------------+\n",
       "| Tags              | None                                                     |\n",
       "+-------------------+----------------------------------------------------------+\n",
       "| URL               | https://demo-buddy.tecton.ai/app/repo/prod/data-         |\n",
       "|                   | sources/transactions                                     |\n",
       "+-------------------+----------------------------------------------------------+\n",
       "| Type              | Batch                                                    |\n",
       "+-------------------+----------------------------------------------------------+\n",
       "|                   | Type       Snowflake                                     |\n",
       "|                   | ---------------------------                              |\n",
       "|                   | URL                                                      |\n",
       "|                   | ---------------------------                              |\n",
       "| Batch Data Source | Database   TECTON_DEMO_DATA                              |\n",
       "|                   | ---------------------------                              |\n",
       "|                   | Schema     FRAUD_DEMO                                    |\n",
       "|                   | ---------------------------                              |\n",
       "|                   | Table      TRANSACTIONS                                  |\n",
       "+-------------------+----------------------------------------------------------+"
      ]
     },
     "execution_count": 8,
     "metadata": {},
     "output_type": "execute_result"
    }
   ],
   "source": [
    "# Check out the data source in Snowflake\n",
    "ws = tecton.get_workspace('prod')\n",
    "ds = ws.get_data_source('transactions')\n",
    "ds.summary()"
   ]
  },
  {
   "cell_type": "markdown",
   "metadata": {},
   "source": [
    "### 2.1) Preview the raw data directly"
   ]
  },
  {
   "cell_type": "code",
   "execution_count": 9,
   "metadata": {
    "tags": []
   },
   "outputs": [
    {
     "data": {
      "text/html": [
       "<div>\n",
       "<style scoped>\n",
       "    .dataframe tbody tr th:only-of-type {\n",
       "        vertical-align: middle;\n",
       "    }\n",
       "\n",
       "    .dataframe tbody tr th {\n",
       "        vertical-align: top;\n",
       "    }\n",
       "\n",
       "    .dataframe thead th {\n",
       "        text-align: right;\n",
       "    }\n",
       "</style>\n",
       "<table border=\"1\" class=\"dataframe\">\n",
       "  <thead>\n",
       "    <tr style=\"text-align: right;\">\n",
       "      <th></th>\n",
       "      <th>USER_ID</th>\n",
       "      <th>TRANSACTION_ID</th>\n",
       "      <th>CATEGORY</th>\n",
       "      <th>AMT</th>\n",
       "      <th>IS_FRAUD</th>\n",
       "      <th>MERCHANT</th>\n",
       "      <th>MERCH_LAT</th>\n",
       "      <th>MERCH_LONG</th>\n",
       "      <th>TIMESTAMP</th>\n",
       "    </tr>\n",
       "  </thead>\n",
       "  <tbody>\n",
       "    <tr>\n",
       "      <th>0</th>\n",
       "      <td>user_724235628997</td>\n",
       "      <td>1a27a9855dda1a514b2413dc13a83355</td>\n",
       "      <td>kids_pets</td>\n",
       "      <td>7.78</td>\n",
       "      <td>0</td>\n",
       "      <td>fraud_Schoen-Quigley</td>\n",
       "      <td>34.468325</td>\n",
       "      <td>-117.693575</td>\n",
       "      <td>2023-07-18 14:06:38.020883</td>\n",
       "    </tr>\n",
       "    <tr>\n",
       "      <th>1</th>\n",
       "      <td>user_222506789984</td>\n",
       "      <td>30657324f049e72a340decbf82477e0d</td>\n",
       "      <td>shopping_net</td>\n",
       "      <td>6.13</td>\n",
       "      <td>0</td>\n",
       "      <td>fraud_Baumbach, Feeney and Morar</td>\n",
       "      <td>39.869828</td>\n",
       "      <td>-112.524499</td>\n",
       "      <td>2023-07-18 14:06:36.183757</td>\n",
       "    </tr>\n",
       "    <tr>\n",
       "      <th>2</th>\n",
       "      <td>user_917975462998</td>\n",
       "      <td>a6f3056dbbf4fffbfcfa9ebd05b5ac4b</td>\n",
       "      <td>shopping_pos</td>\n",
       "      <td>19.21</td>\n",
       "      <td>0</td>\n",
       "      <td>fraud_Kris-Padberg</td>\n",
       "      <td>37.208182</td>\n",
       "      <td>-107.609267</td>\n",
       "      <td>2023-07-18 14:06:33.168132</td>\n",
       "    </tr>\n",
       "    <tr>\n",
       "      <th>3</th>\n",
       "      <td>user_699668125818</td>\n",
       "      <td>52b20290f10557a67d63c11d2624ac8a</td>\n",
       "      <td>personal_care</td>\n",
       "      <td>33.44</td>\n",
       "      <td>0</td>\n",
       "      <td>fraud_Erdman-Schaden</td>\n",
       "      <td>40.272661</td>\n",
       "      <td>-120.192363</td>\n",
       "      <td>2023-07-18 14:06:28.505204</td>\n",
       "    </tr>\n",
       "    <tr>\n",
       "      <th>4</th>\n",
       "      <td>user_502567604689</td>\n",
       "      <td>243c4088a4cdcd04acd7985f8b38bcb6</td>\n",
       "      <td>grocery_pos</td>\n",
       "      <td>91.61</td>\n",
       "      <td>0</td>\n",
       "      <td>fraud_Deckow-O'Conner</td>\n",
       "      <td>30.484389</td>\n",
       "      <td>-97.586327</td>\n",
       "      <td>2023-07-18 14:06:24.536912</td>\n",
       "    </tr>\n",
       "  </tbody>\n",
       "</table>\n",
       "</div>"
      ],
      "text/plain": [
       "             USER_ID                    TRANSACTION_ID       CATEGORY    AMT  \\\n",
       "0  user_724235628997  1a27a9855dda1a514b2413dc13a83355      kids_pets   7.78   \n",
       "1  user_222506789984  30657324f049e72a340decbf82477e0d   shopping_net   6.13   \n",
       "2  user_917975462998  a6f3056dbbf4fffbfcfa9ebd05b5ac4b   shopping_pos  19.21   \n",
       "3  user_699668125818  52b20290f10557a67d63c11d2624ac8a  personal_care  33.44   \n",
       "4  user_502567604689  243c4088a4cdcd04acd7985f8b38bcb6    grocery_pos  91.61   \n",
       "\n",
       "  IS_FRAUD                          MERCHANT  MERCH_LAT  MERCH_LONG  \\\n",
       "0        0              fraud_Schoen-Quigley  34.468325 -117.693575   \n",
       "1        0  fraud_Baumbach, Feeney and Morar  39.869828 -112.524499   \n",
       "2        0                fraud_Kris-Padberg  37.208182 -107.609267   \n",
       "3        0              fraud_Erdman-Schaden  40.272661 -120.192363   \n",
       "4        0             fraud_Deckow-O'Conner  30.484389  -97.586327   \n",
       "\n",
       "                   TIMESTAMP  \n",
       "0 2023-07-18 14:06:38.020883  \n",
       "1 2023-07-18 14:06:36.183757  \n",
       "2 2023-07-18 14:06:33.168132  \n",
       "3 2023-07-18 14:06:28.505204  \n",
       "4 2023-07-18 14:06:24.536912  "
      ]
     },
     "execution_count": 9,
     "metadata": {},
     "output_type": "execute_result"
    }
   ],
   "source": [
    "# Preview the data directly\n",
    "transactions_query = '''\n",
    "SELECT \n",
    "    *\n",
    "FROM \n",
    "    TECTON_DEMO_DATA.FRAUD_DEMO.TRANSACTIONS \n",
    "ORDER BY TIMESTAMP DESC\n",
    "LIMIT 50\n",
    "'''\n",
    "transactions = query_snowflake(transactions_query)\n",
    "transactions.head(5)"
   ]
  },
  {
   "cell_type": "markdown",
   "metadata": {},
   "source": [
    "### 2.2) Tecton Feature Views\n",
    "\n",
    "In Tecton, features are registered as [Feature Views](https://docs.tecton.ai/docs/defining-features/feature-views/).  These views contain all of the information needed to transform raw data (like transactions) into features.\n",
    "\n",
    "Let's run the \"Merchant Fraud Rate\" Feature View to view feature data from the last 30 days (sorted by the merchants with the highest fraud rate):"
   ]
  },
  {
   "cell_type": "code",
   "execution_count": null,
   "metadata": {},
   "outputs": [],
   "source": [
    "fv = ws.get_feature_view('merchant_fraud_rate')\n",
    "\n",
    "today = \"2023-01-01 00:00:00\" # change to today's date/the latest date shown in the results for call 2.1\n",
    "\n",
    "start_time = datetime.strptime(today, '%Y-%m-%d %H:%M:%S')-timedelta(days=40)\n",
    "end_time = datetime.strptime(today, '%Y-%m-%d %H:%M:%S')\n",
    "\n",
    "features = fv.run(start_time=start_time, end_time=end_time).to_pandas()\n",
    "\n",
    "features.sort_values(by=\"IS_FRAUD_MEAN_3D_1D\", ascending=False).head(5)"
   ]
  },
  {
   "cell_type": "markdown",
   "metadata": {},
   "source": [
    "## 3) Generating Training Data\n",
    "Once you've built a number of features, you'll want to join them together to generate training data. \n",
    "\n",
    "### 3.1) Tecton Feature Services\n",
    "In Tecton, features that are needed for training or predictions are grouped together into a [Feature Service](https://docs.tecton.ai/docs/defining-features/feature-services). Typically you have one Feature Service per ML model. Let's check out a Feature Service that we've already built."
   ]
  },
  {
   "cell_type": "code",
   "execution_count": null,
   "metadata": {},
   "outputs": [],
   "source": [
    "fs = ws.get_feature_service('fraud_detection_feature_service')\n",
    "fs.summary()"
   ]
  },
  {
   "cell_type": "markdown",
   "metadata": {},
   "source": [
    "The `fraud_detection_feature_service` is comprised of 13 features that are meant to be used together to train a fraud detection model.\n",
    "\n",
    "### 3.2) Building a Spine\n",
    "\n",
    "Let's use the `fraud_detection_feature_service` to train a model that scores transactions as either \"Fraudulent\" or \"Non-Fraudulent\".  To start, lets look up some labeled transactions that we'll use for training.\n",
    "\n",
    "We can see in the summary above that the `fraud_detection_feature_service` requires `USER_ID` and `CATEGORY` join keys in order to fetch all the relevant features. Together with an event timestamp and label column, this represents our list of historical training events. In Tecton we call this a \"spine\".\n",
    "\n",
    "See the [documentation](https://docs.tecton.ai/docs/reading-feature-data/reading-feature-data-for-training/constructing-training-data) for more context on creating training data with Tecton."
   ]
  },
  {
   "cell_type": "code",
   "execution_count": null,
   "metadata": {},
   "outputs": [],
   "source": [
    "# Preview the label data directly\n",
    "transactions_query = '''\n",
    "SELECT \n",
    "    MERCHANT,\n",
    "    USER_ID,\n",
    "    CATEGORY,\n",
    "    TIMESTAMP,\n",
    "    IS_FRAUD\n",
    "FROM \n",
    "    TECTON_DEMO_DATA.FRAUD_DEMO.TRANSACTIONS \n",
    "ORDER BY TIMESTAMP DESC\n",
    "LIMIT 1000\n",
    "'''\n",
    "transactions = query_snowflake(transactions_query)\n",
    "transactions.head(5)"
   ]
  },
  {
   "cell_type": "markdown",
   "metadata": {},
   "source": [
    "### 3.3) Getting Training Data with `get_historical_features`\n",
    "\n",
    "To retrieve training data, we'll use Tecton's `get_historical_features` API, which allows us to join the 13 features contained in `fraud_detection_feature_service` onto our historical transactions.\n",
    "\n",
    "\n",
    "A Feature Service will expect a spine in the form of a Pandas Dataframe or a Snowflake query that generates the events as shown below."
   ]
  },
  {
   "cell_type": "code",
   "execution_count": null,
   "metadata": {},
   "outputs": [],
   "source": [
    "training_data = fs.get_historical_features(spine=transactions_query, timestamp_key=\"TIMESTAMP\").to_pandas()\n",
    "training_data.head(10)"
   ]
  },
  {
   "cell_type": "markdown",
   "metadata": {},
   "source": [
    "## 4) Getting Real-Time Features for Inference\n",
    "\n",
    "### 4.1) Authenticating with an API key\n",
    "Follow [these instructions](https://docs.tecton.ai/docs/reading-feature-data/reading-feature-data-for-inference/reading-online-features-for-inference-using-the-python-sdk-for-testing) to get an API key for retrieving real-time features.\n"
   ]
  },
  {
   "cell_type": "markdown",
   "metadata": {},
   "source": [
    "### 4.2) Retrieve online features using the Python SDK\n",
    "\n",
    "We can hit Tecton's REST API directly from the Python SDK using `fs.get_online_features(keys)`. This method is convenient for testing purposes.\n",
    "\n",
    "✅ To query the REST API from the Python SDK, we need to set the API key in the first line of the cell below. Replace \"\\<key>\" with the token generated in the step above."
   ]
  },
  {
   "cell_type": "code",
   "execution_count": null,
   "metadata": {
    "scrolled": true
   },
   "outputs": [],
   "source": [
    "tecton.conf.set(\"TECTON_API_KEY\", \"...\")\n",
    "\n",
    "keys = {\n",
    "    'USER_ID': 'user_461615966685',\n",
    "    'CATEGORY': 'grocery_net'\n",
    "}\n",
    "features = fs.get_online_features(join_keys=keys).to_dict()\n",
    "pprint(features)"
   ]
  },
  {
   "cell_type": "markdown",
   "metadata": {},
   "source": [
    "### 4.3) Retrieve features directly from the REST API via a cURL\n",
    "\n",
    "We can also directly query Tecton's REST API using the example cURL below.\n",
    "\n",
    "✅ Run this in your terminal, but make sure to replace `<your-cluster>` cluster name in the first line with your cluster name:\n",
    "\n",
    "```bash\n",
    "curl -X POST --silent https://<your-cluster>.tecton.ai/api/v1/feature-service/get-features\\\n",
    "     -H \"Authorization: Tecton-key $TECTON_API_KEY\" -d\\\n",
    "'{\n",
    "  \"params\": {\n",
    "    \"feature_service_name\": \"fraud_detection_feature_service\",\n",
    "    \"join_key_map\": {\n",
    "      \"USER_ID\": \"user_461615966685\",\n",
    "      \"CATEGORY\": \"grocery_net\"\n",
    "    },\n",
    "    \"workspace_name\": \"prod\"\n",
    "  }\n",
    "}' | jq\n",
    "```"
   ]
  },
  {
   "cell_type": "markdown",
   "metadata": {},
   "source": [
    "# What's Next\n",
    "\n",
    "Tecton is a powerful tool to build, manage, share, and consume features for ML.  Check out the next tutorial \"Creating Features on Snowflake\" to learn how to build your own features."
   ]
  }
 ],
 "metadata": {
  "kernelspec": {
   "display_name": "Python 3 (ipykernel)",
   "language": "python",
   "name": "python3"
  },
  "language_info": {
   "codemirror_mode": {
    "name": "ipython",
    "version": 3
   },
   "file_extension": ".py",
   "mimetype": "text/x-python",
   "name": "python",
   "nbconvert_exporter": "python",
   "pygments_lexer": "ipython3",
   "version": "3.8.12"
  }
 },
 "nbformat": 4,
 "nbformat_minor": 4
}
